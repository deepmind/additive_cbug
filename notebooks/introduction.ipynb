{
 "cells": [
  {
   "cell_type": "markdown",
   "metadata": {
    "id": "AJ7cXYnsD8mQ"
   },
   "source": [
    "# Introduction\n",
    "\n",
    "This notebook introduces the code framework for reproducing the results of\n",
    "> Malek, Aglietti, Chiappa. \"Additive Causal Bandits with Unknown Graph.\" ICML, 2023.\n"
   ]
  },
  {
   "cell_type": "markdown",
   "metadata": {},
   "source": [
    "Copyright 2023 DeepMind Technologies Limited. All Rights Reserved.\n",
    "\n",
    "Licensed under the Apache License, Version 2.0 (the \"License\");"
   ]
  },
  {
   "cell_type": "code",
   "execution_count": null,
   "metadata": {},
   "outputs": [],
   "source": [
    "# Copyright 2023 DeepMind Technologies Limited\n",
    "#\n",
    "# Licensed under the Apache License, Version 2.0 (the \"License\");\n",
    "# you may not use this file except in compliance with the License.\n",
    "# You may obtain a copy of the License at\n",
    "#\n",
    "#      http://www.apache.org/licenses/LICENSE-2.0\n",
    "#\n",
    "# Unless required by applicable law or agreed to in writing, software\n",
    "# distributed under the License is distributed on an \"AS IS\" BASIS,\n",
    "# WITHOUT WARRANTIES OR CONDITIONS OF ANY KIND, either express or implied.\n",
    "# See the License for the specific language governing permissions and\n",
    "# limitations under the License."
   ]
  },
  {
   "cell_type": "code",
   "execution_count": null,
   "metadata": {
    "id": "8IL689w_XWyq"
   },
   "outputs": [],
   "source": [
    "#@title Install the package\n",
    "!pip install git+https://github.com/deepmind/additive_cbug"
   ]
  },
  {
   "cell_type": "code",
   "execution_count": null,
   "metadata": {
    "id": "zHsd1stqqjQ-"
   },
   "outputs": [],
   "source": [
    "#@title Imports\n",
    "import numpy as np\n",
    "import matplotlib.pyplot as plt\n",
    "\n",
    "from cbug import base\n",
    "from cbug import discrete_scm\n",
    "from cbug import discrete_scm_utils as d_utils\n",
    "from cbug import scm\n",
    "from cbug import stoc_fn_utils as sf_utils\n",
    "from cbug import run"
   ]
  },
  {
   "cell_type": "markdown",
   "metadata": {
    "id": "EV1Jpg4pbE2b"
   },
   "source": [
    "## First Example: Chain Graph\n",
    "\n",
    "Our implementation is based on the SCM class with allows you to specify the SCM\n",
    "with stochastic functions, which are functions that are potentially random. We will set $X_0$ to be discrete and i.i.d. uniform, $X_1$ to be $X_0$ plus discrete noise, and $Y$, the target variable, equal to $X_1$ with Gaussian noise."
   ]
  },
  {
   "cell_type": "code",
   "execution_count": null,
   "metadata": {
    "id": "1IoVm5v5JmUz"
   },
   "outputs": [],
   "source": [
    "stoc_fns = {}\n",
    "\n",
    "# Give the support size of each X. Y must be univariate, real-value3.\n",
    "support_sizes = {\"X0\": 5, \"X1\": 8}\n",
    "# Because X0 has no parents, in needs to take n_samples as a parent.\n",
    "y_mean = lambda X1: X1\n",
    "y_stoc_fn = lambda X1: X1 + np.random.normal(size=X1.shape)\n",
    "stoc_fns = {\n",
    "    \"X0\": lambda n_samples: np.random.choice(np.arange(support_sizes[\"X0\"]), n_samples),\n",
    "    \"X1\": lambda X0: X0 + np.random.choice([0, 1, 2], size=X0.shape),\n",
    "    \"Y\": y_stoc_fn,\n",
    "}\n",
    "\n",
    "# Alternatively, we can define Y_stoc_fn is terms of the Y_mean stoc fn:\n",
    "stoc_fns[\"Y\"] = scm.StocFnRecipe(\n",
    "    stoc_fn=sf_utils.add_gaussian_noise_to_stoc_fn(y_mean, cov=1),\n",
    "    stoc_fn_inputs=[\"X1\"],\n",
    ")\n",
    "\n",
    "model = discrete_scm.DiscreteSCM(stoc_fns=stoc_fns,\n",
    "                                 support_sizes=support_sizes,\n",
    "                                 outcome_variable=\"Y\",\n",
    "                                 best_action=11,\n",
    "                                 best_action_value=y_mean(11),\n",
    "                                 outcome_expected_value_fn=y_mean,\n",
    ")\n",
    "results = base.run_modl(\n",
    "    delta=.5,\n",
    "    epsilon=.1,\n",
    "    model=model,\n",
    "    cov=1,\n",
    "    outcome_bound=3 + 12\n",
    ")\n",
    "print(results)\n"
   ]
  },
  {
   "cell_type": "code",
   "execution_count": null,
   "metadata": {
    "id": "anrXh7zk7bNW"
   },
   "outputs": [],
   "source": [
    "# @title Running the algorithms from the paper on our example\n",
    "\n",
    "# Successive Elimination\n",
    "se_results = base.run_se(\n",
    "    delta=.5,\n",
    "    epsilon=.1,\n",
    "    model=model,\n",
    "    cov=1,\n",
    "    outcome_bound=3 + 12\n",
    ")\n",
    "print(\"Results for Successive Elimination\")\n",
    "print(se_results)\n",
    "\n",
    "# And the oracle algorithm that is given the parents of Y first.\n",
    "oracle_results = base.run_modl(\n",
    "    delta=.5,\n",
    "    epsilon=.1,\n",
    "    model=model,\n",
    "    cov=1,\n",
    "    outcome_bound=3 + 12,\n",
    "    opt_scope=[\"X1\"],\n",
    ")\n",
    "print(\"Results for MODL when the true parents are provided\")\n",
    "print(oracle_results)"
   ]
  },
  {
   "cell_type": "markdown",
   "metadata": {
    "id": "zWvGjIDzbNOd"
   },
   "source": [
    "## Introduction to the SCMs used in the paper\n",
    "\n",
    "The d_utils module provides methods for randomly generating the SCMs used in the paper; a description can be found there and also below.\n",
    "\n",
    "Using $N_V$ to denote `num_varables` and $N_{Pa}$ to denote `num_parents`, the generating process is as follows. A Erdos-Renyi graph with degree `degree` is sampled over variables $X_1,\\ldots, X_{N_V}$; $N_{Pa}$ variables are then chosen uniformly as the parents of $Y$, and w.l.o.g. call them $X_1,\\ldots, X_{N_{Pa}}$. We make every $X_j$ that is not an ancestor of $Y$ a child of $Y$ with probability `prob_outcome_child`.\n",
    "\n",
    "Each variable $X_i$ has support $1, \\ldots, M_i$, where $M_i$ is uniformly sampled between `support_size_min` and `support_size_max`. If $X_i$ has no parents, it is a categorical with distribution sampled from a Dirichlet with parameter `dir_alpha`. Otherwise, the conditional distribution $p(X_i| X_{i_1},\\ldots, X_{i_m})$, where $i_1,\\ldots, i_m$ are the parents of $X_i$, is sampled independently for each value of $X_{i_1},\\ldots, X_{i_m}$ by generating $p_1,\\ldots, p_{M_i}\\stackrel{i.i.d.}{\\sim}$Beta(`alpha`,`beta`) then assigning the conditional of $\\{X_i = j\\}$ to be proportional to $p_j$. If $Y$ is a parent of $X_i$, then the same construction is used on a discritized version of $Y$.\n",
    "\n",
    "The stochastic function for the response, $Y$, is generated in the following way. We sample $\\beta_1,\\ldots, \\beta_{N_{Pa}}$ where each term is i.i.d. Uniform(-`mean_bound`, `mean_bound`); these parameters specify the linear term, and `cov` specifies the random additive Gaussian noise. The `interactions` list specifies the number and size of the interaction terms in the non-linear component of $Y$'s stochastic function. An interaction term of size $m$ is equal to $\\prod_{i=1}^m X_{j_i}$, where $j_i$ is an index chosen uniformly at random from $Y$'s parents. In total, using $Z$ as a Normal with covariance `cov` and $\\{m_1,\\ldots, m_k\\}=$ `interactions`,\n",
    "$$\n",
    "  Y|x_1,\\ldots, x_{P} = \\sum_{i=1}^{N_{Pa}} \\beta_i[x_i] + \\gamma \\sum_{j=1}^k \\prod_{i=1}^{m_j} X_{j_i} + Z,\n",
    "$$\n",
    "where $\\gamma=$ `interaction_magnitude`."
   ]
  },
  {
   "cell_type": "code",
   "execution_count": null,
   "metadata": {
    "id": "wIKHpqRkMOdL"
   },
   "outputs": [],
   "source": [
    "np.random.seed(0)  # Ensures Y has two parent and one child\n",
    "model = d_utils.sample_discrete_additive_scm(\n",
    "    num_variables=3,  # Number of variables, excluding Y\n",
    "    degree=2,  # Average degree of the Erdos-Renyi graph\n",
    "    num_parents=2,  # The number of parents of Y: parents are chosen i.i.d. from all variables\n",
    "    prob_outcome_child=.5,  # Each variable topologically after Y is made a child with this probability\n",
    "    cov=1,  # Y is a linear Gaussian with this covariance\n",
    "    mean_bound=1,  # Y has linear coefficients sampled in [-mean_bound, mean_bound].\n",
    "    # Other variables are discrete with number of values in [support_size_min, support_size_max]\n",
    "    support_size_min=2,\n",
    "    support_size_max=3,\n",
    "    interactions=[2, 2],  # Specifies the non-linear interactions terms for Y.\n",
    "    interaction_magnitude=1e-3,  # The scale of the non-linear terms.\n",
    "    alpha=2,  # Hyper parameter for generating the X conditional distributions.\n",
    "    beta=5,  # Hyper parameter for generating the X conditional distributions.\n",
    "    dir_alpha=.5,  # Hyper parameter for the X conditional distributions\n",
    ")\n",
    "# Draw the model's DAG\n",
    "model.draw()"
   ]
  },
  {
   "cell_type": "markdown",
   "metadata": {
    "id": "gAkoYXTR5b6N"
   },
   "source": [
    "## We can also run all algorithms for a fixed set of SCMs generating parameters using the run model."
   ]
  },
  {
   "cell_type": "code",
   "execution_count": null,
   "metadata": {
    "id": "v1dd6Y6r5ivS"
   },
   "outputs": [],
   "source": [
    "default_scm_params = {\n",
    "    \"num_variables\": 20,\n",
    "    \"num_parents\": 4,\n",
    "    \"degree\": 3.0,\n",
    "    \"mean_bound\": 1.0,\n",
    "    \"cov\": 1.0,\n",
    "    \"interaction_magnitude\": 0.0,\n",
    "    \"interactions\": None,\n",
    "    \"alpha\": 2.0,\n",
    "    \"beta\": 5.0,\n",
    "    \"support_size_min\": 3,\n",
    "    \"support_size_max\": 6,\n",
    "}\n",
    "\n",
    "\n",
    "results = run.single_experiment(\n",
    "    scm_params=default_scm_params,  # default SCM parameters.\n",
    "    epsilon=.5,  # error tolerance\n",
    "    delta=.1,  # probability of error tolerance\n",
    "    include_se=False,  # whether to include the successive elimination baseline\n",
    ")\n",
    "print(results)"
   ]
  },
  {
   "cell_type": "markdown",
   "metadata": {
    "id": "j_fZCmfXWGda"
   },
   "source": [
    "# Generating the Plots from the paper\n",
    "\n",
    "Using the utilities defined above, we can generate the plots from the paper in an automatic fashion. We first define a few run.sweeping functions."
   ]
  },
  {
   "cell_type": "code",
   "execution_count": null,
   "metadata": {
    "id": "cmZeeoNekb8I"
   },
   "outputs": [],
   "source": [
    "def plot_samples_and_gap(results, x_values, x_label, axs, include_se=False):\n",
    "  ax1, ax2 = axs\n",
    "\n",
    "  modl_samples = [results[i][\"MODL_mean_samples\"] for i in range(len(x_values))]\n",
    "  oracle_samples = [results[i][\"oracle_mean_samples\"] for i in range(len(x_values))]\n",
    "  parents_first_samples = [results[i][\"parents_first_mean_samples\"] for i in range(len(x_values))]\n",
    "\n",
    "  modl_gaps = [results[i][\"MODL_mean_gap\"] for i in range(len(x_values))]\n",
    "  oracle_gaps = [results[i][\"oracle_mean_gap\"] for i in range(len(x_values))]\n",
    "  parents_first_gaps = [results[i][\"parents_first_mean_gap\"] for i in range(len(x_values))]\n",
    "\n",
    "  ax1.plot(x_values, modl_samples, label=\"MODL\")\n",
    "  ax1.plot(x_values, parents_first_samples, label=\"two stage\")\n",
    "  ax1.plot(x_values, oracle_samples, label=\"parent oracle\")\n",
    "  ax1.set(xlabel=x_label, ylabel=\"average sample complexity\")\n",
    "\n",
    "  ax2.plot(x_values, modl_gaps, label=\"MODL\")\n",
    "  ax2.plot(x_values, parents_first_gaps, label=\"two stage\")\n",
    "  ax2.plot(x_values, oracle_gaps, label=\"parent oracle\")\n",
    "  ax2.set(xlabel=x_label, ylabel=\"average gap\")\n",
    "\n",
    "  if include_se:\n",
    "    samples = [results[i][\"se_mean_samples\"] for i in range(len(x_values))]\n",
    "    gaps = [results[i][\"se_mean_gap\"] for i in range(len(x_values))]\n",
    "    ax1.plot(x_values, samples, label=\"successive elimination\")\n",
    "    ax2.plot(x_values, gaps, label=\"successive elimination\")\n"
   ]
  },
  {
   "cell_type": "code",
   "execution_count": null,
   "metadata": {
    "id": "LoMrbdAVu4Up"
   },
   "outputs": [],
   "source": [
    "#@title Plot  sample complexity vs. number of parents.\n",
    "scm_params = {\n",
    "    \"num_variables\": 10,\n",
    "    \"num_parents\": 1,\n",
    "    \"degree\": 3.0,\n",
    "    \"mean_bound\": 5.0,\n",
    "    \"cov\": 1.0,\n",
    "    \"interaction_magnitude\": 0.0,\n",
    "    \"interactions\": None,\n",
    "    \"alpha\": 2.0,\n",
    "    \"beta\": 5.0,\n",
    "    \"support_size_min\": 3,\n",
    "    \"support_size_max\": 6,\n",
    "}\n",
    "\n",
    "num_scms = 20  # Set to 20 to match the settings in the paper.\n",
    "num_seeds = 5  # Set to 5 to match the settings in the paper.\n",
    "# Generate results for num_parents run.sweep.\n",
    "fig, axs = plt.subplots(2, 4, figsize=(20, 8))\n",
    "\n",
    "num_parents = np.arange(1, 11)\n",
    "var_10_num_par_known = run.sweep(scm_params, \"num_parents\", num_parents,\n",
    "                                 known_num_parents=True,\n",
    "                                 num_scms=num_scms,\n",
    "                                 num_seeds=num_seeds)\n",
    "var_10_num_par_unknown=run.sweep(scm_params, \"num_parents\", num_parents,\n",
    "                                 known_num_parents= False,\n",
    "                                 num_scms=num_scms,\n",
    "                                 num_seeds=num_seeds)\n",
    "plot_samples_and_gap(var_10_num_par_known, num_parents, \"num_parents\", axs[:, 0])\n",
    "axs[0][0].set(title=\"10 Variables, Num Parents Known\")\n",
    "plot_samples_and_gap(var_10_num_par_unknown, num_parents, \"num_parents\", axs[:, 1])\n",
    "axs[0][1].set(title=\"10 Variables, Num Parents Unknown\")\n",
    "\n",
    "scm_params[\"num_variables\"] = 30\n",
    "num_parents = np.arange(1, 31)\n",
    "var_30_num_par_known = run.sweep(scm_params, \"num_parents\", num_parents,\n",
    "                                 known_num_parents=True,\n",
    "                                 num_scms=num_scms,\n",
    "                                 num_seeds=num_seeds)\n",
    "var_30_num_par_unknown = run.sweep(scm_params, \"num_parents\", num_parents,\n",
    "                                   known_num_parents=False,\n",
    "                                   num_scms=num_scms,\n",
    "                                   num_seeds=num_seeds)\n",
    "plot_samples_and_gap(var_30_num_par_known, num_parents, \"num_parents\", axs[:, 2])\n",
    "axs[0][2].set(title=\"30 Variables, Num Parents Known\")\n",
    "plot_samples_and_gap(var_30_num_par_unknown, num_parents, \"num_parents\", axs[:, 3])\n",
    "axs[0][3].set(title=\"30 Variables, Num Parents Unknown\")\n",
    "\n",
    "\n",
    "plt.rcParams.update({\"font.size\": 14})\n",
    "plt.legend(loc=\"upper right\")"
   ]
  },
  {
   "cell_type": "code",
   "execution_count": null,
   "metadata": {
    "id": "cpdqmPGtsGQ1"
   },
   "outputs": [],
   "source": [
    "#@title Compare with successive elimination on sample complexity vs. number of parents.\n",
    "\n",
    "scm_params = {\n",
    "    \"num_variables\": 4,\n",
    "    \"num_parents\": 1,\n",
    "    \"degree\": 3.0,\n",
    "    \"mean_bound\": 5.0,\n",
    "    \"cov\": 1.0,\n",
    "    \"interaction_magnitude\": 0.0,\n",
    "    \"interactions\": None,\n",
    "    \"alpha\": 2.0,\n",
    "    \"beta\": 5.0,\n",
    "    \"support_size_min\": 3,\n",
    "    \"support_size_max\": 6,\n",
    "}\n",
    "num_scms = 20  # Set to 20 to match the settings in the paper.\n",
    "num_seeds = 5  # Set to 5 to match the settings in the paper.\n",
    "\n",
    "# Generate results for num_parents run.sweep.\n",
    "num_parents = np.arange(1, 4)\n",
    "var_4_num_par_unknown = run.sweep(scm_params, \"num_parents\", num_parents,\n",
    "                                  include_se=True,\n",
    "                                  known_num_parents=False,\n",
    "                                  num_scms=num_scms,\n",
    "                                  num_seeds=num_seeds)\n",
    "scm_params[\"num_variables\"] = 6\n",
    "var_6_num_par_unknown = run.sweep(scm_params, \"num_parents\", num_parents,\n",
    "                                  include_se=True,\n",
    "                                  known_num_parents=False,\n",
    "                                  num_scms=num_scms,\n",
    "                                  num_seeds=num_seeds)\n",
    "\n",
    "fig, axs = plt.subplots(2, 2, figsize=(14, 8))\n",
    "plot_samples_and_gap(var_4_num_par_unknown,\n",
    "                     num_parents,\n",
    "                     \"num_parents\",\n",
    "                     axs[:, 0],\n",
    "                     include_se=True)\n",
    "axs[0][0].set(title=\"4 Variables, Num Parents Known\")\n",
    "plot_samples_and_gap(var_6_num_par_unknown,\n",
    "                     num_parents,\n",
    "                     \"num_parents\",\n",
    "                     axs[:, 1],\n",
    "                     include_se=True)\n",
    "axs[0][1].set(title=\"6 Variables, Num Parents Unknown\")\n",
    "\n",
    "plt.rcParams.update({\"font.size\": 10})\n",
    "plt.legend(loc=\"upper right\")"
   ]
  },
  {
   "cell_type": "code",
   "execution_count": null,
   "metadata": {
    "id": "X3ir_KoHiS26"
   },
   "outputs": [],
   "source": [
    "#@title Plot sample complexity vs. support size\n",
    "sizes = np.arange(6, 24)\n",
    "scm_params = {\n",
    "    \"num_variables\": 30,\n",
    "    \"num_parents\": 10,\n",
    "    \"degree\": 3.0,\n",
    "    \"mean_bound\": 1.0,\n",
    "    \"cov\": 1.0,\n",
    "    \"interaction_magnitude\": 0.0,\n",
    "    \"interactions\": None,\n",
    "    \"alpha\": 2.0,\n",
    "    \"beta\": 5.0,\n",
    "    \"support_size_min\": 3,\n",
    "}\n",
    "num_scms = 20  # Set to 20 to match the settings in the paper.\n",
    "num_seeds = 5  # Set to 5 to match the settings in the paper.\n",
    "\n",
    "fig, axs = plt.subplots(2, 4, figsize=(12, 4))\n",
    "\n",
    "results_10_par_num_par_known = run.sweep(scm_params,\n",
    "                                         \"support_size_max\",\n",
    "                                         sizes,\n",
    "                                         known_num_parents=True,\n",
    "                                         num_scms=num_scms,\n",
    "                                         num_seeds=num_seeds)\n",
    "plot_samples_and_gap(results_10_par_num_par_known,\n",
    "                     sizes,\n",
    "                     \"support_size_max\",\n",
    "                     axs[:, 0])\n",
    "axs[0][0].set(title=\"10 Parents, Num Parents Know\")\n",
    "results_10_par_num_par_unknown = run.sweep(scm_params,\n",
    "                                           \"support_size_max\",\n",
    "                                           sizes,\n",
    "                                           known_num_parents=False,\n",
    "                                           num_scms=num_scms,\n",
    "                                           num_seeds=num_seeds)\n",
    "plot_samples_and_gap(results_10_par_num_par_unknown,\n",
    "                     sizes,\n",
    "                     \"support_size_max\",\n",
    "                     axs[:, 1])\n",
    "axs[0][1].set(title=\"10 Parents, Num Parents Unknown\")\n",
    "\n",
    "scm_params[\"num_parents\"] = 30\n",
    "results_30_par_num_par_known = run.sweep(scm_params,\n",
    "                                         \"support_size_max\",\n",
    "                                         sizes,\n",
    "                                         known_num_parents=True,\n",
    "                                         num_scms=num_scms,\n",
    "                                         num_seeds=num_seeds)\n",
    "plot_samples_and_gap(results_30_par_num_par_known,\n",
    "                     sizes,\n",
    "                     \"support_size_max\",\n",
    "                     axs[:, 2])\n",
    "axs[0][2].set(title=\"30 Parents, Num Parents Known\")\n",
    "results_30_par_num_par_unknown = run.sweep(scm_params,\n",
    "                                           \"support_size_max\",\n",
    "                                           sizes,\n",
    "                                           known_num_parents=False,\n",
    "                                           num_scms=num_scms,\n",
    "                                           num_seeds=num_seeds)\n",
    "plot_samples_and_gap(results_30_par_num_par_unknown,\n",
    "                     sizes,\n",
    "                     \"support_size_max\",\n",
    "                     axs[:, 3])\n",
    "axs[0][3].set(title=\"30 Parents, Num Parents Unknown\")\n",
    "\n",
    "\n",
    "plt.rcParams.update({\"font.size\": 14})\n",
    "plt.legend(loc=\"upper right\")"
   ]
  },
  {
   "cell_type": "code",
   "execution_count": null,
   "metadata": {
    "id": "uxQrMdJNDFhT"
   },
   "outputs": [],
   "source": [
    "#@title Performance vs. model mispecification\n",
    "\n",
    "interaction_magnitude_sweep = np.linspace(.001, .1, num=10)\n",
    "scm_params = {\n",
    "    \"num_variables\": 30,\n",
    "    \"num_parents\": 10,\n",
    "    \"degree\": 3.0,\n",
    "    \"mean_bound\": 1.0,\n",
    "    \"cov\": 1.0,\n",
    "    \"interactions\": [2, 3, 3],\n",
    "    \"alpha\": 2.0,\n",
    "    \"beta\": 5.0,\n",
    "    \"support_size_min\": 3,\n",
    "    \"support_size_max\": 6,\n",
    "}\n",
    "num_scms = 20  # Set to 20 to match the settings in the paper.\n",
    "num_seeds = 5  # Set to 5 to match the settings in the paper.\n",
    "\n",
    "fig, axs = plt.subplots(2, 2, figsize=(12, 4))\n",
    "\n",
    "results_10_par_num_par_known = run.sweep(scm_params, \"interaction_magnitude\",\n",
    "                                         interaction_magnitude_sweep,\n",
    "                                         known_num_parents=True,\n",
    "                                         num_scms=num_scms,\n",
    "                                         num_seeds=num_seeds)\n",
    "plot_samples_and_gap(results_10_par_num_par_known, interaction_magnitude_sweep,\n",
    "                     \"interaction_magnitude\",\n",
    "                     axs[:, 0])\n",
    "axs[0][0].set(title=\"10 Parents, Num Parents Known\",\n",
    "              xlabel=\"model mispecification\")\n",
    "results_10_par_num_par_unknown = run.sweep(scm_params, \"interaction_magnitude\",\n",
    "                                           interaction_magnitude_sweep,\n",
    "                                           known_num_parents=False,\n",
    "                                           num_scms=num_scms,\n",
    "                                           num_seeds=num_seeds)\n",
    "plot_samples_and_gap(results_10_par_num_par_unknown,\n",
    "                     interaction_magnitude_sweep,\n",
    "                     \"interaction_magnitude\",\n",
    "                     axs[:, 1])\n",
    "axs[0][1].set(title=\"10 Parents, Num Parents Unknown\")\n",
    "\n",
    "plt.rcParams.update({\"font.size\": 14})\n",
    "plt.legend(loc=\"upper right\")"
   ]
  },
  {
   "cell_type": "code",
   "execution_count": null,
   "metadata": {
    "id": "ys2YHAg0GVJp"
   },
   "outputs": [],
   "source": [
    "#@title Performance vs. average graph degree\n",
    "degree_values = np.linspace(1, 8, num=2)\n",
    "scm_params = {\n",
    "    \"num_variables\": 30,\n",
    "    \"num_parents\": 10,\n",
    "    \"mean_bound\": 1.0,\n",
    "    \"cov\": 1.0,\n",
    "    \"interactions\": [2, 3, 3],\n",
    "    \"alpha\": 2.0,\n",
    "    \"beta\": 5.0,\n",
    "    \"support_size_min\": 3,\n",
    "    \"support_size_max\": 6,\n",
    "    \"interaction_magnitude\": 0.0,\n",
    "}\n",
    "num_scms = 20  # Set to 20 to match the settings in the paper.\n",
    "num_seeds = 5  # Set to 5 to match the settings in the paper.\n",
    "\n",
    "fig, axs = plt.subplots(2, 2, figsize=(12, 4))\n",
    "\n",
    "par_known = run.sweep(scm_params, \"degree\", degree_values,\n",
    "                      known_num_parents=True,\n",
    "                      num_scms=num_scms,\n",
    "                      num_seeds=num_seeds)\n",
    "plot_samples_and_gap(par_known, degree_values, \"degree\", axs[:, 0])\n",
    "axs[0][0].set(title=\"Num Parents Known\", xlabel=\"average graph degree\")\n",
    "\n",
    "par_unknown = run.sweep(scm_params, \"degree\", degree_values,\n",
    "                        known_num_parents=False,\n",
    "                        num_scms=num_scms,\n",
    "                        num_seeds=num_seeds)\n",
    "plot_samples_and_gap(par_unknown, degree_values, \"degree\", axs[:, 1])\n",
    "axs[1][0].set(title=\"Num Parents Unknown\", xlabel=\"average graph degree\")\n",
    "\n",
    "\n",
    "plt.rcParams.update({\"font.size\": 14})\n",
    "plt.legend(loc=\"upper right\")"
   ]
  },
  {
   "cell_type": "code",
   "execution_count": null,
   "metadata": {
    "id": "5g4C8MDveKEQ"
   },
   "outputs": [],
   "source": []
  }
 ],
 "metadata": {
  "colab": {
   "provenance": []
  },
  "kernelspec": {
   "display_name": "Python 3 (ipykernel)",
   "language": "python",
   "name": "python3"
  },
  "language_info": {
   "codemirror_mode": {
    "name": "ipython",
    "version": 3
   },
   "file_extension": ".py",
   "mimetype": "text/x-python",
   "name": "python",
   "nbconvert_exporter": "python",
   "pygments_lexer": "ipython3",
   "version": "3.11.2"
  }
 },
 "nbformat": 4,
 "nbformat_minor": 1
}
